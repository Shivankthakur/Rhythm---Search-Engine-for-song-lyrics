{
  "nbformat": 4,
  "nbformat_minor": 0,
  "metadata": {
    "colab": {
      "name": "code.ipynb",
      "provenance": [],
      "collapsed_sections": []
    },
    "kernelspec": {
      "name": "python3",
      "display_name": "Python 3"
    }
  },
  "cells": [
    {
      "cell_type": "markdown",
      "metadata": {
        "id": "vm4a8O8eLNFD"
      },
      "source": [
        "Importing required python libraries\n",
        "\n"
      ]
    },
    {
      "cell_type": "code",
      "metadata": {
        "id": "NsSdDpLqUSN4",
        "outputId": "aa3dad9d-5ac8-4d50-abea-05cea2205129",
        "colab": {
          "base_uri": "https://localhost:8080/",
          "height": 52
        }
      },
      "source": [
        "from nltk.corpus import stopwords\n",
        "import nltk\n",
        "nltk.download('stopwords')\n",
        "from nltk.tokenize import TreebankWordTokenizer\n",
        "from nltk.stem.porter import *\n",
        "import numpy\n",
        "from math import log,sqrt\n",
        "import pandas as pd\n",
        "import timeit"
      ],
      "execution_count": 29,
      "outputs": [
        {
          "output_type": "stream",
          "text": [
            "[nltk_data] Downloading package stopwords to /root/nltk_data...\n",
            "[nltk_data]   Package stopwords is already up-to-date!\n"
          ],
          "name": "stdout"
        }
      ]
    },
    {
      "cell_type": "markdown",
      "metadata": {
        "id": "9iok08M5Lm3x"
      },
      "source": [
        "Defining methods for preprocessing"
      ]
    },
    {
      "cell_type": "code",
      "metadata": {
        "id": "je5RWQewiYbE"
      },
      "source": [
        "def tokenize_sentence(sentence):    # Tokenize a string and remove punctuations\n",
        "#arguments : string\n",
        "  sentence=sentence.lower()\n",
        "  tokenizer=TreebankWordTokenizer()\n",
        "  tokens_list_with_punct = tokenizer.tokenize(sentence.lower())\n",
        "  tokens_list_without_punct=[]\n",
        "  for x in tokens_list_with_punct:\n",
        "   if x.isalpha():\n",
        "    tokens_list_without_punct.append(x)\n",
        "  return tokens_list_without_punct\n",
        "\n",
        "def remove_stopwords(words):        # Remove english stop words from a string\n",
        "#arguments : List of strings\n",
        " stopwords_list=stopwords.words('english')\n",
        " filtered_words=[]\n",
        " for x in words:\n",
        "  if x not in stopwords_list:\n",
        "   filtered_words.append(x)\n",
        " return filtered_words\n",
        "\n",
        "def stem_words(words_list):         # Stem words in a string\n",
        "#arguments : List of strings\n",
        "  ps=PorterStemmer()\n",
        "  stemmed_words=[]\n",
        "  for x in range(len(words_list)):\n",
        "   stemmed_words.append(ps.stem(words_list[x]))\n",
        "  return stemmed_words\n",
        "\n",
        "def preprocess_sentence(sentence):  # Method to call above defined preprocessing tasks on a string\n",
        "#arguments : string\n",
        "  return stem_words(remove_stopwords(tokenize_sentence(sentence)))"
      ],
      "execution_count": 30,
      "outputs": []
    },
    {
      "cell_type": "markdown",
      "metadata": {
        "id": "7tNns17OMLh8"
      },
      "source": [
        "Vector space model defined by class \" IR_model \""
      ]
    },
    {
      "cell_type": "code",
      "metadata": {
        "id": "qjMR31xFQpPo"
      },
      "source": [
        "class IR_model():\n",
        " def __init__(self):\n",
        "# constructor method\n",
        "  self.__word_dict={}      #dictionary of all words in corpus.Each unique word is mapped to an index\n",
        "  self.__word_dict_size=0  #size of word_dict\n",
        "  self.__doc_list_size=0   #number of docs in corpus\n",
        "  self.__score_matrix=None #2D matrix to store tf-idf score\n",
        " \n",
        " def __addDocument(self,document): #adds document to the matrix and store tf in cells\n",
        " # arguments : corpus as a list of tuples ; No return type. \n",
        "  for word in document[1]:\n",
        "   self.__score_matrix[self.__doc_list_size][self.__word_dict[word]]+=1\n",
        "  self.__doc_list_size+=1\n",
        "\n",
        " def build_Vector_Space(self,documents): # computes values for cells in vector space\n",
        " #arguments : corpus as a list of tuples ; No return type. \n",
        "  for document in documents:             # assign index to unique words\n",
        "   for word in document[1]:\n",
        "    if word not in self.__word_dict:\n",
        "     self.__word_dict[word]=self.__word_dict_size\n",
        "     self.__word_dict_size+=1\n",
        "\n",
        "  self.__score_matrix=numpy.zeros((len(documents),self.__word_dict_size))\n",
        "\t\t\n",
        "  for document in documents:              # assign tf value to cells\n",
        "   self.__addDocument(document)\n",
        "\n",
        "  idf=numpy.zeros((self.__word_dict_size))\n",
        "  df=numpy.zeros((self.__word_dict_size))\n",
        "\n",
        "  for word in self.__word_dict:            # calculate df of all words in corpus\n",
        "   x=self.__word_dict[word]\n",
        "   for i in range(len(self.__score_matrix)):\n",
        "    if self.__score_matrix[i][x]!=0:\n",
        "     df[x]+=1\n",
        "\n",
        "  for i in range(self.__word_dict_size):   # calculate idf of all words in corpus\n",
        "   idf[i]=log(len(self.__score_matrix)/df[i])\n",
        "\n",
        "  for i in range(len(self.__score_matrix)):# fill cells with tf-idf score\n",
        "   for j in range(self.__word_dict_size):\n",
        "    if self.__score_matrix[i][j]!=0:\n",
        "     self.__score_matrix[i][j]=(1+log(self.__score_matrix[i][j]))*(idf[j])\n",
        "\t\t\n",
        " def Search(self,query,documents): # Finds the tf_idf score of query for all docs in corpus and returns it\n",
        "#arguments : user query as list of terms, corpus as list of tuples\n",
        "#Return type : list of tuples\n",
        "  query_df=numpy.zeros((self.__word_dict_size))\n",
        "  query_idf=numpy.zeros((self.__word_dict_size))\n",
        "  for word in query:\n",
        "   if word in self.__word_dict:               # for each word in query, find df and idf\n",
        "    if query_df[self.__word_dict[word]]==0:\n",
        "     for document in documents:\n",
        "      if word in document[1]:\n",
        "       query_df[self.__word_dict[word]]+=1\n",
        "       query_idf[self.__word_dict[word]]=log(len(self.__score_matrix)/query_df[self.__word_dict[word]])\n",
        "\n",
        "  query_score=[]  # To store score between query and each document\n",
        "  for document in documents:  # Finding tf for each term in query for each doc and find score\n",
        "   query_tf=numpy.zeros(self.__word_dict_size)\n",
        "   score=0\n",
        "   for word in query:\n",
        "    if word in self.__word_dict:\n",
        "     if query_tf[self.__word_dict[word]]==0:\n",
        "      for term in document[1]:\n",
        "       if term==word:\n",
        "        query_tf[self.__word_dict[word]]+=1\n",
        "      if query_tf[self.__word_dict[word]] > 0 :\n",
        "       query_tf[self.__word_dict[word]]=1+log(query_tf[self.__word_dict[word]])\n",
        "       score+= query_tf[self.__word_dict[word]] * query_idf[self.__word_dict[word]] \n",
        "                                              # score(query,doc)=sum of score for all terms in query and doc\n",
        "   query_score.append([(score,document[0])]) # append doc id and score for returning\n",
        "   \n",
        "  return query_score \n"
      ],
      "execution_count": 31,
      "outputs": []
    },
    {
      "cell_type": "markdown",
      "metadata": {
        "id": "LXeckfC4MuSz"
      },
      "source": [
        "Mounting dataset from google drive"
      ]
    },
    {
      "cell_type": "code",
      "metadata": {
        "id": "BvPJJJ3GVIt_",
        "outputId": "a761f39b-3551-4075-f0a0-7d513d0393d8",
        "colab": {
          "base_uri": "https://localhost:8080/",
          "height": 35
        }
      },
      "source": [
        "from google.colab import drive\n",
        "drive.mount('/content/drive')"
      ],
      "execution_count": 32,
      "outputs": [
        {
          "output_type": "stream",
          "text": [
            "Drive already mounted at /content/drive; to attempt to forcibly remount, call drive.mount(\"/content/drive\", force_remount=True).\n"
          ],
          "name": "stdout"
        }
      ]
    },
    {
      "cell_type": "markdown",
      "metadata": {
        "id": "wAEMHQLiMyoq"
      },
      "source": [
        "Setting filepath to the dataset"
      ]
    },
    {
      "cell_type": "code",
      "metadata": {
        "id": "Ii7xvZpLVO2u"
      },
      "source": [
        "filepath = \"/content/drive/My Drive/Colab Notebooks/Song.csv\""
      ],
      "execution_count": 33,
      "outputs": []
    },
    {
      "cell_type": "markdown",
      "metadata": {
        "id": "f_CQyqugM2Ew"
      },
      "source": [
        "Reading the dataset into df"
      ]
    },
    {
      "cell_type": "code",
      "metadata": {
        "id": "KvElY2ttVTOc",
        "outputId": "fccfa78f-6c8e-4d5c-96a3-aa400b4f48da",
        "colab": {
          "base_uri": "https://localhost:8080/",
          "height": 1000
        }
      },
      "source": [
        "df = pd.read_csv(filepath, error_bad_lines=False)\n",
        "print(len(df))\n",
        "df"
      ],
      "execution_count": 34,
      "outputs": [
        {
          "output_type": "stream",
          "text": [
            "4049\n"
          ],
          "name": "stdout"
        },
        {
          "output_type": "execute_result",
          "data": {
            "text/html": [
              "<div>\n",
              "<style scoped>\n",
              "    .dataframe tbody tr th:only-of-type {\n",
              "        vertical-align: middle;\n",
              "    }\n",
              "\n",
              "    .dataframe tbody tr th {\n",
              "        vertical-align: top;\n",
              "    }\n",
              "\n",
              "    .dataframe thead th {\n",
              "        text-align: right;\n",
              "    }\n",
              "</style>\n",
              "<table border=\"1\" class=\"dataframe\">\n",
              "  <thead>\n",
              "    <tr style=\"text-align: right;\">\n",
              "      <th></th>\n",
              "      <th>Unnamed: 0</th>\n",
              "      <th>Id</th>\n",
              "      <th>Artist Name</th>\n",
              "      <th>Song Name</th>\n",
              "      <th>Lyrics</th>\n",
              "      <th>Clean Lyrics</th>\n",
              "    </tr>\n",
              "  </thead>\n",
              "  <tbody>\n",
              "    <tr>\n",
              "      <th>0</th>\n",
              "      <td>0</td>\n",
              "      <td>1000</td>\n",
              "      <td>Josh Groban</td>\n",
              "      <td>Brave</td>\n",
              "      <td>Wake up, wake up, the sun cannot wait for long.\\nReach out, reach out before it fades away.\\nYou will find the warmth when you surrender.\\nSmile into the fear and let it play.\\n\\nYou wanna run away, run away and you say that it can't be so.\\nYou wanna look away, look away but you stay cause' it's all so close.\\nWhen you stand up and hold out your hand.\\nIn the face of what I don't understand.\\nMy reason to be brave.\\n\\nHold on, hold on, so strong, time just carries on.\\nAnd all that you thought was wrong is pure again.\\nYou can't hide forever from the thunder.\\nLook into the storm and feel the rain.\\n\\nYou wanna run away, run away and you say that it can't be so.\\nYou wanna look away, look away but you stay cause' it's all so close.\\nWhen you stand up and hold out your hand.\\nIn the face of what I don't understand.\\nMy reason to be brave.\\n\\nWhoa (x 4)\\n\\nGo on, go on…\\n\\nYou wanna run away, run away and you say that it can't be so.\\nYou wanna look away, look away but you stay caus...</td>\n",
              "      <td>wake wake sun wait long reach reach fade away find warmth surrender smile fear let play wan run away run away say cant wan look away look away stay cause close stand hold hand face dont understand reason brave hold hold strong time carry think wrong pure cant hide forever thunder look storm feel rain wan run away run away say cant wan look away look away stay cause close stand hold hand face dont understand reason brave whoa wan run away run away say cant wan look away look away stay cause close stand hold hand face dont understand reason brave explain request</td>\n",
              "    </tr>\n",
              "    <tr>\n",
              "      <th>1</th>\n",
              "      <td>1</td>\n",
              "      <td>1001</td>\n",
              "      <td>Simple Plan</td>\n",
              "      <td>Where Is The Love?</td>\n",
              "      <td>[Originally by Black Eyed Peas]\\n\\nWhat's wrong with the world mama,\\nPeople livin' like ain't got no mamas.\\nI think the whole world's addicted to the drama,\\nOnly attracted to the things that breathe the trauma.\\nOverseas yeah we tryin' to stop terrorism,\\nBut we still got terrorists here livin'\\nIn the USA, the big CIA, the bloods and the crips and the KKK.\\n\\nPeople killin' people dyin'\\nChildren hurt, do you hear them cryin'?\\nIf you practice what you preach?\\nWill you turn the other cheek?\\nFather, Father, Father help us.\\nSend some guidance from above.\\nPeople got me got me questioning,\\nWhere is the love? (the love, the love)\\nWhere is the love, the love, the love?\\n\\nWhatever happened to the values of humanity?\\nWhatever happened to the fairness in equality?\\nInstead of spreadin' love we're spreadin' animosity.\\nThe lack of understanding leading us away from unity.\\nThat's the reason why sometimes I'm feelin' under,\\nThat's the reason why sometimes I'm feelin' down,\\nIt's ...</td>\n",
              "      <td>originally black eye peas whats wrong world mama people livin like aint get mamas think whole worlds addict drama attract things breathe trauma overseas yeah tryin stop terrorism still get terrorists livin usa big cia blood crips kkk people killin people dyin children hurt hear cryin practice preach turn cheek father father father help send guidance people get get question love love love love love love whatever happen value humanity whatever happen fairness equality instead spreadin love spreadin animosity lack understand lead away unity thats reason sometimes feelin thats reason sometimes feelin wonder sometimes feelin get keep faith alive till love find people killin people dyin children hurt hear cryin practice preach turn cheek father father father help send guidance people get get question love love love love love love love love love love love love love love love love explain request</td>\n",
              "    </tr>\n",
              "    <tr>\n",
              "      <th>2</th>\n",
              "      <td>2</td>\n",
              "      <td>1002</td>\n",
              "      <td>Ozzy Osbourne</td>\n",
              "      <td>Paranoid</td>\n",
              "      <td>Finished with my woman 'cause she couldn't help me with my mind\\nPeople think I'm insane because I am frowning all the time\\nAll day long I think of things but nothing seems to satisfy\\nThink I'll lose my mind if I don't find something to pacify\\nCan you help me occupy my brain?\\nOh yeah\\nI need someone to show me the things in life that I can't find\\nI can't see the things that make true happiness, I must be blind\\nMake a joke and I will sigh and you will laugh and I will cry\\nHappiness I cannot feel and love to me is so unreal\\nAnd so as you hear these words telling you now of my state\\nI tell you to enjoy life I wish I could but it's too late                            \\nExplain\\nRequest\\n \\n\\n\\n×</td>\n",
              "      <td>finish woman cause couldnt help mind people think insane frown time day long think things nothing seem satisfy think ill lose mind dont find something pacify help occupy brain yeah need someone show things life cant find cant see things make true happiness must blind make joke sigh laugh cry happiness feel love unreal hear word tell state tell enjoy life wish could late explain request</td>\n",
              "    </tr>\n",
              "    <tr>\n",
              "      <th>3</th>\n",
              "      <td>3</td>\n",
              "      <td>1003</td>\n",
              "      <td>Godflesh</td>\n",
              "      <td>Baby Blue Eyes</td>\n",
              "      <td>Bury your dreams\\nDrown your skin\\nUseful ruins [X2]\\n\\nBaby Blue Eyes [X4]\\n\\nPerfect waist\\nPerfect skin\\nBreed and serve\\n\\nBaby Blue Eyes [X4]\\n\\nBury your dreams\\nDrown your skin\\nUseful ruins [X2]\\n\\nBaby Blue Eyes [X4]                            \\nExplain\\nRequest\\n \\n\\n\\n×</td>\n",
              "      <td>bury dream drown skin useful ruin baby blue eye perfect waist perfect skin breed serve baby blue eye bury dream drown skin useful ruin baby blue eye explain request</td>\n",
              "    </tr>\n",
              "    <tr>\n",
              "      <th>4</th>\n",
              "      <td>4</td>\n",
              "      <td>1004</td>\n",
              "      <td>Grateful Dead</td>\n",
              "      <td>Youngblood</td>\n",
              "      <td>I saw her standing on the corner, yellow ribbon in her hair\\nI knew at once I was a goner, said lookie there, lookie there\\nYoungblood, youngblood, youngblood, I can't get you out of my mind\\n\\nI tried to talk, my tongue was fractured\\nI tried to walk, but I was lame\\nCould'nt stop myseld from shouting\\nWhat's your name, what's your name?\\n\\nCrazy stuff, sure look tough, had to follow her all the way home\\nThings went bad, I met her dad\\nHe said \"you better leave my daughter alone\"\\n\\nI could'nt sleep that night for trying, I saw the rising of the sun\\nAll night long my heart felt like crying\\nYou're the one, you're the one                            \\nExplain\\nRequest\\n \\n\\n\\n×</td>\n",
              "      <td>saw stand corner yellow ribbon hair know goner say lookie lookie youngblood youngblood youngblood cant get mind try talk tongue fracture try walk lame couldnt stop myseld shout whats name whats name crazy stuff sure look tough follow way home things bad meet dad say better leave daughter alone couldnt sleep night try saw rise sun night long heart felt like cry youre one youre one explain request</td>\n",
              "    </tr>\n",
              "    <tr>\n",
              "      <th>...</th>\n",
              "      <td>...</td>\n",
              "      <td>...</td>\n",
              "      <td>...</td>\n",
              "      <td>...</td>\n",
              "      <td>...</td>\n",
              "      <td>...</td>\n",
              "    </tr>\n",
              "    <tr>\n",
              "      <th>4044</th>\n",
              "      <td>4044</td>\n",
              "      <td>5044</td>\n",
              "      <td>Rachel Z</td>\n",
              "      <td>This Woman's Work</td>\n",
              "      <td>Pray God you can cope\\nI stand outside\\nThis woman's work\\nThis woman's world\\nOh it's hard on the man\\nNow his part is over\\nNow starts the craft of the father\\n\\nI know you've got a little life in you left\\nI know you've got a lotta strength left\\nI know you've got a little life in you left\\nI know you've got a lotta strength left\\nI should be cryin' but I just can't let it show\\nI should be hopin' but I can't stop thinkin'\\nAll the things we should've said that are never said\\nAll the things we should've done that we never did\\nAll the things we should've given, but I didn't\\nOh darlin', make it go\\nMake it go away                            \\nExplain\\nRequest\\n \\n\\n\\n×</td>\n",
              "      <td>pray god cope stand outside womans work womans world hard man part start craft father know youve get little life leave know youve get lotta strength leave know youve get little life leave know youve get lotta strength leave cryin cant let show hopin cant stop thinkin things shouldve say never say things shouldve never things shouldve give didnt darlin make make away explain request</td>\n",
              "    </tr>\n",
              "    <tr>\n",
              "      <th>4045</th>\n",
              "      <td>4045</td>\n",
              "      <td>5045</td>\n",
              "      <td>Doris Day</td>\n",
              "      <td>I Ll Be Home For Christmas</td>\n",
              "      <td>I'll be home for Christmas\\nYou can plan on me\\nPlease have snow and mistletoe\\nAnd presents on the tree\\n\\nChristmas Eve will find me\\nWhere the love-light gleams\\nI'll be home for Christmas\\nIf only in my dreams\\n\\nChristmas Eve will find me\\nWhere the love-light gleams\\nI'll be home for Christmas\\nIf only in my dreams                            \\nExplain\\nRequest\\n \\n\\n\\n×</td>\n",
              "      <td>ill home christmas plan please snow mistletoe present tree christmas eve find love light gleam ill home christmas dream christmas eve find love light gleam ill home christmas dream explain request</td>\n",
              "    </tr>\n",
              "    <tr>\n",
              "      <th>4046</th>\n",
              "      <td>4046</td>\n",
              "      <td>5046</td>\n",
              "      <td>Jason Mraz</td>\n",
              "      <td>Rainbow Connection</td>\n",
              "      <td>Why are there so many,\\nSongs about rainbows,\\nAnd what's on the other side.\\n\\nRainbows are visions,\\nBut only illusions,\\nRainbows have nothing to hide.\\n\\nWhat's..\\n(Spoken: D'you guys know this part?)\\nWhat's so amazing,\\nThat it keeps us star gazing,\\nAnd what do they think we might see.\\n\\nOh, someday we'll find it,\\nThe Rainbow Connection,\\nThe lovers, the dreamers, and me.\\n\\nHave you been half asleep,\\nAnd have you heard the voices,\\nWell, I've heard them calling my name.\\n\\nIs this the sweet sound,\\nThat calls the young sailors,\\nTheir voice might be one and the same.\\n\\nI've.. Heard it too many, many, many times to ignore it,\\nAnd I think it might be.. Oh..\\n\\nSomeday we'll find it,\\nThe Rainbow Connection,\\nThe lovers, the dreamers, and me.\\n\\n(Spoken: Something like that.)                            \\nExplain\\nRequest\\n \\n\\n\\n×</td>\n",
              "      <td>many songs rainbows whats side rainbows visions illusions rainbows nothing hide whats speak dyou guy know part whats amaze keep star gaze think might see someday well find rainbow connection lovers dreamers half asleep hear voice well ive hear call name sweet sound call young sailors voice might one ive hear many many many time ignore think might someday well find rainbow connection lovers dreamers speak something like explain request</td>\n",
              "    </tr>\n",
              "    <tr>\n",
              "      <th>4047</th>\n",
              "      <td>4047</td>\n",
              "      <td>5047</td>\n",
              "      <td>Conway Twitty</td>\n",
              "      <td>Bad Boy</td>\n",
              "      <td>Everyday your husband goes to work from nine to five\\nWakes up in the morning and puts on his coat and tie\\nSits down at the table with some coffee and the news\\n\"Two eggs over easy,\" girl, that's all he says to you\\nThe kids are all in school now and you sit home alone\\nSpendin' all your time down it the basement a-washin' clothes\\nSomehow this just ain't the way you dreamed love would be\\nI can look into your eyes and tell just what you need.\\n\\nYou need a bad boy\\nTo love you up and down\\nA bad boy\\nTo take you on the town\\nIt's plain to see what you need's\\nA little bit of mystery\\nYou need a bad boy\\nA bad boy like me.\\n\\nEvery night at six o'clock he walks on through the door\\nLays down on the couch and throws his shoes off on the floor\\nTonight was gonna be the night he took you to a show\\nNow he's much too tired and he doesn't wanna go\\nOnce again you spend the night in front of the tv\\nIn bed you turn to touch him but he's already asleep.\\n\\nYou need a bad boy\\nTo love you...</td>\n",
              "      <td>everyday husband work nine five wake morning put coat tie sit table coffee news two egg easy girl thats say kid school sit home alone spendin time basement washin clothe somehow aint way dream love would look eye tell need need bad boy love bad boy take town plain see need little bite mystery need bad boy bad boy like every night six oclock walk door lay couch throw shoe floor tonight gon night take show hes much tire doesnt wan spend night front bed turn touch hes already asleep need bad boy love bad boy take town plain see need little bite mystery need bad boy bad boy like bad boy explain request</td>\n",
              "    </tr>\n",
              "    <tr>\n",
              "      <th>4048</th>\n",
              "      <td>4048</td>\n",
              "      <td>5048</td>\n",
              "      <td>Yann Tiersen</td>\n",
              "      <td>Life On Mars</td>\n",
              "      <td>It's a God awful small affair\\nTo the girl with the mousey hair,\\nBut her mummy is yelling, \"No!\"\\nAnd her daddy has told her to go,\\nBut her friend is no where to be seen.\\nNow she walks through her sunken dream\\nTo the seats with the clearest view\\nAnd she's hooked to the silver screen,\\nBut the film is sadd'ning bore\\nFor she's lived it ten times or more.\\nShe could spit in the eyes of fools\\nAs they ask her to focus on\\n\\nSailors\\nFighting in the dance hall.\\nOh man!\\nLook at those cavemen go.\\nIt's the freakiest show.\\nTake a look at the lawman\\nBeating up the wrong guy.\\nOh man!\\nWonder if he'll ever know\\nHe's in the best selling show.\\nIs there life on Mars?\\n\\nIt's on America's tortured brow\\nThat Mickey Mouse has grown up a cow.\\nNow the workers have struck for fame\\n'Cause Lennon's on sale again.\\nSee the mice in their million hordes\\nFrom Ibeza to the Norfolk Broads.\\nRule Britannia is out of bounds\\nTo my mother, my dog, and clowns,\\nBut the film is a sadd'ning bore\\n'...</td>\n",
              "      <td>god awful small affair girl mousey hair mummy yell daddy tell friend see walk sink dream seat clearest view shes hook silver screen film saddning bore shes live ten time could spit eye fool ask focus sailors fight dance hall man look cavemen freakiest show take look lawman beat wrong guy man wonder hell ever know hes best sell show life mar americas torture brow mickey mouse grow cow workers strike fame cause lennons sale see mice million hordes ibeza norfolk broads rule britannia bound mother dog clown film saddning bore cause write ten time writ ask focus sailors fight dance hall man look cavemen freakiest show take look lawman beat wrong guy man wonder hell ever know hes best sell show life mar explain request</td>\n",
              "    </tr>\n",
              "  </tbody>\n",
              "</table>\n",
              "<p>4049 rows × 6 columns</p>\n",
              "</div>"
            ],
            "text/plain": [
              "      Unnamed: 0  ...                                                                                                                                                                                                                                                                                                                                                                                                                                                                                                                                                                                                                                                                                                                                                                                                                                                                                                                           Clean Lyrics\n",
              "0              0  ...                                                                                                                                                                                                                                                                                                                                                 wake wake sun wait long reach reach fade away find warmth surrender smile fear let play wan run away run away say cant wan look away look away stay cause close stand hold hand face dont understand reason brave hold hold strong time carry think wrong pure cant hide forever thunder look storm feel rain wan run away run away say cant wan look away look away stay cause close stand hold hand face dont understand reason brave whoa wan run away run away say cant wan look away look away stay cause close stand hold hand face dont understand reason brave explain request\n",
              "1              1  ...  originally black eye peas whats wrong world mama people livin like aint get mamas think whole worlds addict drama attract things breathe trauma overseas yeah tryin stop terrorism still get terrorists livin usa big cia blood crips kkk people killin people dyin children hurt hear cryin practice preach turn cheek father father father help send guidance people get get question love love love love love love whatever happen value humanity whatever happen fairness equality instead spreadin love spreadin animosity lack understand lead away unity thats reason sometimes feelin thats reason sometimes feelin wonder sometimes feelin get keep faith alive till love find people killin people dyin children hurt hear cryin practice preach turn cheek father father father help send guidance people get get question love love love love love love love love love love love love love love love love explain request\n",
              "2              2  ...                                                                                                                                                                                                                                                                                                                                                                                                                                                                                                                                   finish woman cause couldnt help mind people think insane frown time day long think things nothing seem satisfy think ill lose mind dont find something pacify help occupy brain yeah need someone show things life cant find cant see things make true happiness must blind make joke sigh laugh cry happiness feel love unreal hear word tell state tell enjoy life wish could late explain request\n",
              "3              3  ...                                                                                                                                                                                                                                                                                                                                                                                                                                                                                                                                                                                                                                                                                                                                                                   bury dream drown skin useful ruin baby blue eye perfect waist perfect skin breed serve baby blue eye bury dream drown skin useful ruin baby blue eye explain request\n",
              "4              4  ...                                                                                                                                                                                                                                                                                                                                                                                                                                                                                                                         saw stand corner yellow ribbon hair know goner say lookie lookie youngblood youngblood youngblood cant get mind try talk tongue fracture try walk lame couldnt stop myseld shout whats name whats name crazy stuff sure look tough follow way home things bad meet dad say better leave daughter alone couldnt sleep night try saw rise sun night long heart felt like cry youre one youre one explain request\n",
              "...          ...  ...                                                                                                                                                                                                                                                                                                                                                                                                                                                                                                                                                                                                                                                                                                                                                                                                                                                                                                                                    ...\n",
              "4044        4044  ...                                                                                                                                                                                                                                                                                                                                                                                                                                                                                                                                       pray god cope stand outside womans work womans world hard man part start craft father know youve get little life leave know youve get lotta strength leave know youve get little life leave know youve get lotta strength leave cryin cant let show hopin cant stop thinkin things shouldve say never say things shouldve never things shouldve give didnt darlin make make away explain request\n",
              "4045        4045  ...                                                                                                                                                                                                                                                                                                                                                                                                                                                                                                                                                                                                                                                                                                                                   ill home christmas plan please snow mistletoe present tree christmas eve find love light gleam ill home christmas dream christmas eve find love light gleam ill home christmas dream explain request\n",
              "4046        4046  ...                                                                                                                                                                                                                                                                                                                                                                                                                                                                                 many songs rainbows whats side rainbows visions illusions rainbows nothing hide whats speak dyou guy know part whats amaze keep star gaze think might see someday well find rainbow connection lovers dreamers half asleep hear voice well ive hear call name sweet sound call young sailors voice might one ive hear many many many time ignore think might someday well find rainbow connection lovers dreamers speak something like explain request\n",
              "4047        4047  ...                                                                                                                                                                                                                                                                                                          everyday husband work nine five wake morning put coat tie sit table coffee news two egg easy girl thats say kid school sit home alone spendin time basement washin clothe somehow aint way dream love would look eye tell need need bad boy love bad boy take town plain see need little bite mystery need bad boy bad boy like every night six oclock walk door lay couch throw shoe floor tonight gon night take show hes much tire doesnt wan spend night front bed turn touch hes already asleep need bad boy love bad boy take town plain see need little bite mystery need bad boy bad boy like bad boy explain request\n",
              "4048        4048  ...                                                                                                                                                                                     god awful small affair girl mousey hair mummy yell daddy tell friend see walk sink dream seat clearest view shes hook silver screen film saddning bore shes live ten time could spit eye fool ask focus sailors fight dance hall man look cavemen freakiest show take look lawman beat wrong guy man wonder hell ever know hes best sell show life mar americas torture brow mickey mouse grow cow workers strike fame cause lennons sale see mice million hordes ibeza norfolk broads rule britannia bound mother dog clown film saddning bore cause write ten time writ ask focus sailors fight dance hall man look cavemen freakiest show take look lawman beat wrong guy man wonder hell ever know hes best sell show life mar explain request\n",
              "\n",
              "[4049 rows x 6 columns]"
            ]
          },
          "metadata": {
            "tags": []
          },
          "execution_count": 34
        }
      ]
    },
    {
      "cell_type": "markdown",
      "metadata": {
        "id": "VKI0xgxaNP7x"
      },
      "source": [
        "Appending lyrics from the dataset to the list \"songs\"\n"
      ]
    },
    {
      "cell_type": "code",
      "metadata": {
        "id": "gfzjEKFOVpD6"
      },
      "source": [
        "songs=[]     #\"songs\" is a list of lyrics from df\n",
        "for i in df['Clean Lyrics']:\n",
        " songs.append(i)"
      ],
      "execution_count": 35,
      "outputs": []
    },
    {
      "cell_type": "markdown",
      "metadata": {
        "id": "jBjRireSNftJ"
      },
      "source": [
        "Generating the corpus in required form."
      ]
    },
    {
      "cell_type": "code",
      "metadata": {
        "id": "b8m3DifHXeEG",
        "outputId": "8c7a2e87-dec4-4c10-ce99-99710fea564f",
        "colab": {
          "base_uri": "https://localhost:8080/",
          "height": 35
        }
      },
      "source": [
        "docs=[]#\"docs\" is a list where each element in the list is a tuple whose first element is index of song in corpus and second element is preprocessed item\n",
        "start = timeit.default_timer()\n",
        "\n",
        "docs = [(i, preprocess_sentence(songs[i])) for i in range(len(songs))]\n",
        "\n",
        "stop = timeit.default_timer()\n",
        "print('Time: ', stop - start)"
      ],
      "execution_count": 36,
      "outputs": [
        {
          "output_type": "stream",
          "text": [
            "Time:  12.86841538300007\n"
          ],
          "name": "stdout"
        }
      ]
    },
    {
      "cell_type": "markdown",
      "metadata": {
        "id": "cRi8xlIGOHoQ"
      },
      "source": [
        "Building the IR model.\n"
      ]
    },
    {
      "cell_type": "code",
      "metadata": {
        "id": "zNelnGb8X0qb",
        "outputId": "db051f61-2cab-46e1-8e89-6ec64bb1bfa0",
        "colab": {
          "base_uri": "https://localhost:8080/",
          "height": 35
        }
      },
      "source": [
        "start = timeit.default_timer()\n",
        "Model=IR_model()      #\"Model\" is the Vector space model.\n",
        "Model.build_Vector_Space(docs)\n",
        "stop = timeit.default_timer()\n",
        "print('Time: ', stop - start)"
      ],
      "execution_count": 37,
      "outputs": [
        {
          "output_type": "stream",
          "text": [
            "Time:  145.14310020599999\n"
          ],
          "name": "stdout"
        }
      ]
    },
    {
      "cell_type": "markdown",
      "metadata": {
        "id": "jJcyquroOyVU"
      },
      "source": [
        "Assigning the query to q."
      ]
    },
    {
      "cell_type": "code",
      "metadata": {
        "id": "BIFqtMqyYBEx",
        "outputId": "cae65634-b7b3-4f68-bc18-d2e69352d4fa",
        "colab": {
          "base_uri": "https://localhost:8080/",
          "height": 35
        }
      },
      "source": [
        "start = timeit.default_timer()\n",
        "q=\"startt\"\n",
        "q=preprocess_sentence(q)\n",
        "stop = timeit.default_timer()\n",
        "print('Time: ', stop - start)"
      ],
      "execution_count": 56,
      "outputs": [
        {
          "output_type": "stream",
          "text": [
            "Time:  0.000857245000020157\n"
          ],
          "name": "stdout"
        }
      ]
    },
    {
      "cell_type": "markdown",
      "metadata": {
        "id": "W63xFAjfO5gn"
      },
      "source": [
        "Calculating tf_idf score for query and each song."
      ]
    },
    {
      "cell_type": "code",
      "metadata": {
        "id": "ihxEM752YBev",
        "outputId": "fe1ba22b-0595-4795-8869-d66a5dde24ef",
        "colab": {
          "base_uri": "https://localhost:8080/",
          "height": 35
        }
      },
      "source": [
        "start = timeit.default_timer()\n",
        "f=Model.Search(q,docs)\n",
        "stop = timeit.default_timer()\n",
        "print('Time: ', stop - start)"
      ],
      "execution_count": 57,
      "outputs": [
        {
          "output_type": "stream",
          "text": [
            "Time:  0.04730948500002796\n"
          ],
          "name": "stdout"
        }
      ]
    },
    {
      "cell_type": "markdown",
      "metadata": {
        "id": "Jd2xfNCjPKbF"
      },
      "source": [
        "Getting the index of top 10 similar songs in corpus."
      ]
    },
    {
      "cell_type": "code",
      "metadata": {
        "id": "OhPaUKUpYBRu"
      },
      "source": [
        "isallzeros = 1\n",
        "f.sort(reverse=True)\n",
        "top10=[]\n",
        "for i in range(10):\n",
        "  for j in f[i]:\n",
        "      if j[0] > 0:\n",
        "        isallzeros = 0\n",
        "if isallzeros == 1 :\n",
        " result=\"Sorry, no match found\"\n",
        "else:     \n",
        " for i in range(10):\n",
        "  for j in f[i]:\n",
        "   top10.append(j[1])"
      ],
      "execution_count": 58,
      "outputs": []
    },
    {
      "cell_type": "markdown",
      "metadata": {
        "id": "ACz646BMPTvG"
      },
      "source": [
        "Appending other details of top 10 songs in ans."
      ]
    },
    {
      "cell_type": "code",
      "metadata": {
        "id": "pMTexJ_w_YQi"
      },
      "source": [
        "if isallzeros == 0 :\n",
        " ans=[]\n",
        " for i in top10:\n",
        "  ans.append([df.iloc[i]['Artist Name'],df.iloc[i]['Song Name'],df.iloc[i]['Clean Lyrics']])"
      ],
      "execution_count": 59,
      "outputs": []
    },
    {
      "cell_type": "markdown",
      "metadata": {
        "id": "71TdbcCVPblo"
      },
      "source": [
        "Printing top 10 relevant results."
      ]
    },
    {
      "cell_type": "code",
      "metadata": {
        "id": "OzH0qvCcCZMG"
      },
      "source": [
        "if isallzeros == 0 :\n",
        " pd.set_option('display.max_colwidth',1000)\n",
        " print(\"Top 10 search results\\n\")\n",
        " result=pd.DataFrame(ans,columns=['Artist Name','Song Name','Lyrics'])\n",
        " result"
      ],
      "execution_count": 60,
      "outputs": []
    },
    {
      "cell_type": "code",
      "metadata": {
        "id": "TY59yk9SrGeK",
        "outputId": "74b65fa2-e8fc-4794-ba03-a591e1f7fade",
        "colab": {
          "base_uri": "https://localhost:8080/",
          "height": 35
        }
      },
      "source": [
        "result"
      ],
      "execution_count": 61,
      "outputs": [
        {
          "output_type": "execute_result",
          "data": {
            "application/vnd.google.colaboratory.intrinsic+json": {
              "type": "string"
            },
            "text/plain": [
              "'Sorry, no match found'"
            ]
          },
          "metadata": {
            "tags": []
          },
          "execution_count": 61
        }
      ]
    },
    {
      "cell_type": "code",
      "metadata": {
        "id": "qRrK3zV8riF8"
      },
      "source": [
        ""
      ],
      "execution_count": 43,
      "outputs": []
    }
  ]
}